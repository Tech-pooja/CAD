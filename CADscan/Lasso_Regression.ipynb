{
  "nbformat": 4,
  "nbformat_minor": 0,
  "metadata": {
    "colab": {
      "provenance": [],
      "authorship_tag": "ABX9TyN8K89/NSJimXLFQni/NhOb",
      "include_colab_link": true
    },
    "kernelspec": {
      "name": "python3",
      "display_name": "Python 3"
    },
    "language_info": {
      "name": "python"
    }
  },
  "cells": [
    {
      "cell_type": "markdown",
      "metadata": {
        "id": "view-in-github",
        "colab_type": "text"
      },
      "source": [
        "<a href=\"https://colab.research.google.com/github/Tech-pooja/CAD/blob/main/Lasso_Regression.ipynb\" target=\"_parent\"><img src=\"https://colab.research.google.com/assets/colab-badge.svg\" alt=\"Open In Colab\"/></a>"
      ]
    },
    {
      "cell_type": "code",
      "source": [
        "# introduction\n",
        "\n",
        "# background info\n",
        "\n",
        "# motivation - computational cost\n",
        "# objective\n",
        "\n",
        "# metgods and models - working flowchart\n",
        "\n",
        "# 20-30 pages\n",
        "\n",
        "\n",
        "#Pandas is commonly used for data manipulation and analysis, while numpy is used for numerical computations.\n",
        "import pandas as pd\n",
        "import numpy as np\n",
        "\n",
        "#for data visualization\n",
        "import matplotlib.pyplot as plt\n",
        "import seaborn as sns\n",
        "\n",
        "#ColumnTransformer is used to apply different transformations to different columns of the dataset.\n",
        "#StandardScaler and MinMaxScaler are used for feature scaling.\n",
        "#OneHotEncoder is used for converting categorical variables into numerical representation.\n",
        "from sklearn.compose import ColumnTransformer\n",
        "from sklearn.preprocessing import StandardScaler, MinMaxScaler\n",
        "from sklearn.preprocessing import OneHotEncoder\n",
        "\n",
        "#train_test_split is used to split the dataset into training and testing subsets.\n",
        "#StratifiedKFold is a cross-validation method that ensures each fold has the same proportion of class labels as the whole dataset.\n",
        "#cross_validate is used to perform cross-validation and evaluate the model's performance.\n",
        "from sklearn.model_selection import train_test_split\n",
        "from sklearn.model_selection import StratifiedKFold\n",
        "from sklearn.model_selection import cross_validate\n",
        "\n",
        "from sklearn.ensemble import RandomForestClassifier\n",
        "# from sklearn.tree import DecisionTreeClassifier\n",
        "from sklearn.neighbors import KNeighborsClassifier\n",
        "from sklearn.svm import SVC\n",
        "\n",
        "#for evaluating the performance of the model\n",
        "from sklearn.metrics import accuracy_score, precision_score, recall_score, f1_score\n",
        "from sklearn.metrics import confusion_matrix, ConfusionMatrixDisplay\n",
        "from sklearn.metrics import classification_report\n",
        "\n",
        "#These lines import the warnings module and suppress all warnings that may occur during the execution of the code.\n",
        "import warnings\n",
        "warnings.filterwarnings('ignore')"
      ],
      "metadata": {
        "id": "F1XqeOr2oyeg"
      },
      "execution_count": 27,
      "outputs": []
    },
    {
      "cell_type": "code",
      "source": [
        "import io\n",
        "#df = pd.read_csv(io.BytesIO(uploaded['CAD.csv']))\n",
        "df = pd.read_csv(\"/content/CAD.csv\")"
      ],
      "metadata": {
        "id": "FxRMRjAqozEK"
      },
      "execution_count": 28,
      "outputs": []
    },
    {
      "cell_type": "code",
      "source": [
        "total = df.isnull().sum().sort_values(ascending=False)\n",
        "percent = (df.isnull().sum() / df.isnull().count()).sort_values(ascending=False)\n",
        "missing_data = pd.concat([total, percent*100], axis=1, keys=[\"Total\", \"Percent(%)\"])\n",
        "#missing_data"
      ],
      "metadata": {
        "id": "Xi9YfcWDpB7Z"
      },
      "execution_count": 29,
      "outputs": []
    },
    {
      "cell_type": "code",
      "source": [
        "duplicates = df[df.duplicated()]\n",
        "print(\"Total Duplicates rows observed:\", duplicates.shape[0])\n",
        "print(\"Dropping duplicates\")\n",
        "\n",
        "# Dropping duplicates\n",
        "print(\"Shape before dropping duplicates: \", df.shape[0])\n",
        "df.drop_duplicates(inplace=True)\n",
        "print(\"Shae after dropping duplicates: \", df.shape[0])"
      ],
      "metadata": {
        "colab": {
          "base_uri": "https://localhost:8080/"
        },
        "id": "DFYv3D4lpOU7",
        "outputId": "bda2050e-9aac-48ed-ce13-9ad21bb622bc"
      },
      "execution_count": 30,
      "outputs": [
        {
          "output_type": "stream",
          "name": "stdout",
          "text": [
            "Total Duplicates rows observed: 0\n",
            "Dropping duplicates\n",
            "Shape before dropping duplicates:  303\n",
            "Shae after dropping duplicates:  303\n"
          ]
        }
      ]
    },
    {
      "cell_type": "code",
      "source": [
        "# Check for unique values\n",
        "\n",
        "# Numerical variables:\n",
        "num_cols = ['Age','Weight', 'Length','BMI', 'BP', 'PR', 'FBS', 'CR', 'TG', 'LDL', 'HDL', 'BUN', 'ESR', 'HB', 'K', 'Na', 'WBC', 'Lymph', 'Neut', 'PLT', 'EF-TTE']\n",
        "\n",
        "# Categorical variables:\n",
        "cat_cols = ['Sex', 'DM', 'HTN', 'Current Smoker', 'EX-Smoker', 'FH', 'Obesity', 'CRF', 'CVA', 'Airway disease', 'Thyroid Disease', 'CHF', 'DLP', 'Edema', 'Weak Peripheral Pulse', 'Lung rales', 'Systolic Murmur', 'Diastolic Murmur', 'Typical Chest Pain', 'Dyspnea', 'Atypical', 'Nonanginal', 'Exertional CP', 'LowTH Ang', 'Q Wave', 'St Elevation', 'St Depression', 'Tinversion', 'LVH', 'Poor R Progression', 'Cath']\n",
        "\n",
        "# Ordinal variables\n",
        "ord_cols = ['Function Class', \"Region RWMA\", \"VHD\"]\n",
        "\n",
        "print(f\"[Unique Values in {len(cat_cols)} Categorical Variables]\\n\")\n",
        "\n",
        "for cat_col in cat_cols:\n",
        "    print(\"* {} : {} Unique Values =>\".format(cat_col, df[cat_col].nunique()), df[cat_col].unique())"
      ],
      "metadata": {
        "colab": {
          "base_uri": "https://localhost:8080/"
        },
        "id": "Wes6sLTvpRuK",
        "outputId": "9e731aad-914a-4be5-c3a5-f33303c7e02d"
      },
      "execution_count": 31,
      "outputs": [
        {
          "output_type": "stream",
          "name": "stdout",
          "text": [
            "[Unique Values in 31 Categorical Variables]\n",
            "\n",
            "* Sex : 2 Unique Values => ['Male' 'Fmale']\n",
            "* DM : 2 Unique Values => [0 1]\n",
            "* HTN : 2 Unique Values => [1 0]\n",
            "* Current Smoker : 2 Unique Values => [1 0]\n",
            "* EX-Smoker : 2 Unique Values => [0 1]\n",
            "* FH : 2 Unique Values => [0 1]\n",
            "* Obesity : 2 Unique Values => ['Y' 'N']\n",
            "* CRF : 2 Unique Values => ['N' 'Y']\n",
            "* CVA : 2 Unique Values => ['N' 'Y']\n",
            "* Airway disease : 2 Unique Values => ['N' 'Y']\n",
            "* Thyroid Disease : 2 Unique Values => ['N' 'Y']\n",
            "* CHF : 2 Unique Values => ['N' 'Y']\n",
            "* DLP : 2 Unique Values => ['Y' 'N']\n",
            "* Edema : 2 Unique Values => [0 1]\n",
            "* Weak Peripheral Pulse : 2 Unique Values => ['N' 'Y']\n",
            "* Lung rales : 2 Unique Values => ['N' 'Y']\n",
            "* Systolic Murmur : 2 Unique Values => ['N' 'Y']\n",
            "* Diastolic Murmur : 2 Unique Values => ['N' 'Y']\n",
            "* Typical Chest Pain : 2 Unique Values => [0 1]\n",
            "* Dyspnea : 2 Unique Values => ['N' 'Y']\n",
            "* Atypical : 2 Unique Values => ['N' 'Y']\n",
            "* Nonanginal : 2 Unique Values => ['N' 'Y']\n",
            "* Exertional CP : 1 Unique Values => ['N']\n",
            "* LowTH Ang : 2 Unique Values => ['N' 'Y']\n",
            "* Q Wave : 2 Unique Values => [0 1]\n",
            "* St Elevation : 2 Unique Values => [0 1]\n",
            "* St Depression : 2 Unique Values => [1 0]\n",
            "* Tinversion : 2 Unique Values => [1 0]\n",
            "* LVH : 2 Unique Values => ['N' 'Y']\n",
            "* Poor R Progression : 2 Unique Values => ['N' 'Y']\n",
            "* Cath : 2 Unique Values => ['Cad' 'Normal']\n"
          ]
        }
      ]
    },
    {
      "cell_type": "code",
      "source": [
        "# Data shape\n",
        "\n",
        "print(f\"Dataset : {df.shape[0]} rows X {df.shape[1]} columns\")"
      ],
      "metadata": {
        "colab": {
          "base_uri": "https://localhost:8080/"
        },
        "id": "ejjOmsB6pV-J",
        "outputId": "00111969-9b53-43d2-e80b-cab991dcc645"
      },
      "execution_count": 32,
      "outputs": [
        {
          "output_type": "stream",
          "name": "stdout",
          "text": [
            "Dataset : 303 rows X 55 columns\n"
          ]
        }
      ]
    },
    {
      "cell_type": "code",
      "source": [
        "#Distribution of continuous features are not uniform, and has a certain skewness. Especially, feature TG (max value = 1050),\n",
        "#FBS (max value = 400), and HDL (max value = 111) and other features has some outliers.\n",
        "#We will check outliers by plotting boxplot in the next part.\n",
        "\n",
        "vhd = {\"N\": 0, \"mild\": 1, \"Moderate\": 2, \"Severe\": 3}\n",
        "sex = {\"Male\": \"Male\", \"Fmale\": \"Female\"}\n",
        "\n",
        "df['VHD'] = df['VHD'].map(vhd)\n",
        "df['Sex'] = df['Sex'].map(sex)\n",
        "\n",
        "df.replace('N', 0, inplace=True)\n",
        "df.replace('Y', 1, inplace=True)\n",
        "\n",
        "df.head()"
      ],
      "metadata": {
        "colab": {
          "base_uri": "https://localhost:8080/",
          "height": 253
        },
        "id": "xd9LwMCPpZrx",
        "outputId": "9a511594-d611-468d-b2c2-078966d9ac29"
      },
      "execution_count": 33,
      "outputs": [
        {
          "output_type": "execute_result",
          "data": {
            "text/plain": [
              "   Age  Weight  Length     Sex        BMI  DM  HTN  Current Smoker  EX-Smoker  \\\n",
              "0   53      90     175    Male  29.387755   0    1               1          0   \n",
              "1   67      70     157  Female  28.398718   0    1               0          0   \n",
              "2   54      54     164    Male  20.077335   0    0               1          0   \n",
              "3   66      67     158  Female  26.838648   0    1               0          0   \n",
              "4   50      87     153  Female  37.165193   0    1               0          0   \n",
              "\n",
              "   FH  ...    K   Na    WBC  Lymph  Neut  PLT  EF-TTE  Region RWMA  VHD  \\\n",
              "0   0  ...  4.7  141   5700     39    52  261      50            0    0   \n",
              "1   0  ...  4.7  156   7700     38    55  165      40            4    0   \n",
              "2   0  ...  4.7  139   7400     38    60  230      40            2    1   \n",
              "3   0  ...  4.4  142  13000     18    72  742      55            0    3   \n",
              "4   0  ...  4.0  140   9200     55    39  274      50            0    3   \n",
              "\n",
              "     Cath  \n",
              "0     Cad  \n",
              "1     Cad  \n",
              "2     Cad  \n",
              "3  Normal  \n",
              "4  Normal  \n",
              "\n",
              "[5 rows x 55 columns]"
            ],
            "text/html": [
              "\n",
              "  <div id=\"df-d97dde9b-8e7a-483b-bb0f-908f67fb0f03\" class=\"colab-df-container\">\n",
              "    <div>\n",
              "<style scoped>\n",
              "    .dataframe tbody tr th:only-of-type {\n",
              "        vertical-align: middle;\n",
              "    }\n",
              "\n",
              "    .dataframe tbody tr th {\n",
              "        vertical-align: top;\n",
              "    }\n",
              "\n",
              "    .dataframe thead th {\n",
              "        text-align: right;\n",
              "    }\n",
              "</style>\n",
              "<table border=\"1\" class=\"dataframe\">\n",
              "  <thead>\n",
              "    <tr style=\"text-align: right;\">\n",
              "      <th></th>\n",
              "      <th>Age</th>\n",
              "      <th>Weight</th>\n",
              "      <th>Length</th>\n",
              "      <th>Sex</th>\n",
              "      <th>BMI</th>\n",
              "      <th>DM</th>\n",
              "      <th>HTN</th>\n",
              "      <th>Current Smoker</th>\n",
              "      <th>EX-Smoker</th>\n",
              "      <th>FH</th>\n",
              "      <th>...</th>\n",
              "      <th>K</th>\n",
              "      <th>Na</th>\n",
              "      <th>WBC</th>\n",
              "      <th>Lymph</th>\n",
              "      <th>Neut</th>\n",
              "      <th>PLT</th>\n",
              "      <th>EF-TTE</th>\n",
              "      <th>Region RWMA</th>\n",
              "      <th>VHD</th>\n",
              "      <th>Cath</th>\n",
              "    </tr>\n",
              "  </thead>\n",
              "  <tbody>\n",
              "    <tr>\n",
              "      <th>0</th>\n",
              "      <td>53</td>\n",
              "      <td>90</td>\n",
              "      <td>175</td>\n",
              "      <td>Male</td>\n",
              "      <td>29.387755</td>\n",
              "      <td>0</td>\n",
              "      <td>1</td>\n",
              "      <td>1</td>\n",
              "      <td>0</td>\n",
              "      <td>0</td>\n",
              "      <td>...</td>\n",
              "      <td>4.7</td>\n",
              "      <td>141</td>\n",
              "      <td>5700</td>\n",
              "      <td>39</td>\n",
              "      <td>52</td>\n",
              "      <td>261</td>\n",
              "      <td>50</td>\n",
              "      <td>0</td>\n",
              "      <td>0</td>\n",
              "      <td>Cad</td>\n",
              "    </tr>\n",
              "    <tr>\n",
              "      <th>1</th>\n",
              "      <td>67</td>\n",
              "      <td>70</td>\n",
              "      <td>157</td>\n",
              "      <td>Female</td>\n",
              "      <td>28.398718</td>\n",
              "      <td>0</td>\n",
              "      <td>1</td>\n",
              "      <td>0</td>\n",
              "      <td>0</td>\n",
              "      <td>0</td>\n",
              "      <td>...</td>\n",
              "      <td>4.7</td>\n",
              "      <td>156</td>\n",
              "      <td>7700</td>\n",
              "      <td>38</td>\n",
              "      <td>55</td>\n",
              "      <td>165</td>\n",
              "      <td>40</td>\n",
              "      <td>4</td>\n",
              "      <td>0</td>\n",
              "      <td>Cad</td>\n",
              "    </tr>\n",
              "    <tr>\n",
              "      <th>2</th>\n",
              "      <td>54</td>\n",
              "      <td>54</td>\n",
              "      <td>164</td>\n",
              "      <td>Male</td>\n",
              "      <td>20.077335</td>\n",
              "      <td>0</td>\n",
              "      <td>0</td>\n",
              "      <td>1</td>\n",
              "      <td>0</td>\n",
              "      <td>0</td>\n",
              "      <td>...</td>\n",
              "      <td>4.7</td>\n",
              "      <td>139</td>\n",
              "      <td>7400</td>\n",
              "      <td>38</td>\n",
              "      <td>60</td>\n",
              "      <td>230</td>\n",
              "      <td>40</td>\n",
              "      <td>2</td>\n",
              "      <td>1</td>\n",
              "      <td>Cad</td>\n",
              "    </tr>\n",
              "    <tr>\n",
              "      <th>3</th>\n",
              "      <td>66</td>\n",
              "      <td>67</td>\n",
              "      <td>158</td>\n",
              "      <td>Female</td>\n",
              "      <td>26.838648</td>\n",
              "      <td>0</td>\n",
              "      <td>1</td>\n",
              "      <td>0</td>\n",
              "      <td>0</td>\n",
              "      <td>0</td>\n",
              "      <td>...</td>\n",
              "      <td>4.4</td>\n",
              "      <td>142</td>\n",
              "      <td>13000</td>\n",
              "      <td>18</td>\n",
              "      <td>72</td>\n",
              "      <td>742</td>\n",
              "      <td>55</td>\n",
              "      <td>0</td>\n",
              "      <td>3</td>\n",
              "      <td>Normal</td>\n",
              "    </tr>\n",
              "    <tr>\n",
              "      <th>4</th>\n",
              "      <td>50</td>\n",
              "      <td>87</td>\n",
              "      <td>153</td>\n",
              "      <td>Female</td>\n",
              "      <td>37.165193</td>\n",
              "      <td>0</td>\n",
              "      <td>1</td>\n",
              "      <td>0</td>\n",
              "      <td>0</td>\n",
              "      <td>0</td>\n",
              "      <td>...</td>\n",
              "      <td>4.0</td>\n",
              "      <td>140</td>\n",
              "      <td>9200</td>\n",
              "      <td>55</td>\n",
              "      <td>39</td>\n",
              "      <td>274</td>\n",
              "      <td>50</td>\n",
              "      <td>0</td>\n",
              "      <td>3</td>\n",
              "      <td>Normal</td>\n",
              "    </tr>\n",
              "  </tbody>\n",
              "</table>\n",
              "<p>5 rows × 55 columns</p>\n",
              "</div>\n",
              "    <div class=\"colab-df-buttons\">\n",
              "\n",
              "  <div class=\"colab-df-container\">\n",
              "    <button class=\"colab-df-convert\" onclick=\"convertToInteractive('df-d97dde9b-8e7a-483b-bb0f-908f67fb0f03')\"\n",
              "            title=\"Convert this dataframe to an interactive table.\"\n",
              "            style=\"display:none;\">\n",
              "\n",
              "  <svg xmlns=\"http://www.w3.org/2000/svg\" height=\"24px\" viewBox=\"0 -960 960 960\">\n",
              "    <path d=\"M120-120v-720h720v720H120Zm60-500h600v-160H180v160Zm220 220h160v-160H400v160Zm0 220h160v-160H400v160ZM180-400h160v-160H180v160Zm440 0h160v-160H620v160ZM180-180h160v-160H180v160Zm440 0h160v-160H620v160Z\"/>\n",
              "  </svg>\n",
              "    </button>\n",
              "\n",
              "  <style>\n",
              "    .colab-df-container {\n",
              "      display:flex;\n",
              "      gap: 12px;\n",
              "    }\n",
              "\n",
              "    .colab-df-convert {\n",
              "      background-color: #E8F0FE;\n",
              "      border: none;\n",
              "      border-radius: 50%;\n",
              "      cursor: pointer;\n",
              "      display: none;\n",
              "      fill: #1967D2;\n",
              "      height: 32px;\n",
              "      padding: 0 0 0 0;\n",
              "      width: 32px;\n",
              "    }\n",
              "\n",
              "    .colab-df-convert:hover {\n",
              "      background-color: #E2EBFA;\n",
              "      box-shadow: 0px 1px 2px rgba(60, 64, 67, 0.3), 0px 1px 3px 1px rgba(60, 64, 67, 0.15);\n",
              "      fill: #174EA6;\n",
              "    }\n",
              "\n",
              "    .colab-df-buttons div {\n",
              "      margin-bottom: 4px;\n",
              "    }\n",
              "\n",
              "    [theme=dark] .colab-df-convert {\n",
              "      background-color: #3B4455;\n",
              "      fill: #D2E3FC;\n",
              "    }\n",
              "\n",
              "    [theme=dark] .colab-df-convert:hover {\n",
              "      background-color: #434B5C;\n",
              "      box-shadow: 0px 1px 3px 1px rgba(0, 0, 0, 0.15);\n",
              "      filter: drop-shadow(0px 1px 2px rgba(0, 0, 0, 0.3));\n",
              "      fill: #FFFFFF;\n",
              "    }\n",
              "  </style>\n",
              "\n",
              "    <script>\n",
              "      const buttonEl =\n",
              "        document.querySelector('#df-d97dde9b-8e7a-483b-bb0f-908f67fb0f03 button.colab-df-convert');\n",
              "      buttonEl.style.display =\n",
              "        google.colab.kernel.accessAllowed ? 'block' : 'none';\n",
              "\n",
              "      async function convertToInteractive(key) {\n",
              "        const element = document.querySelector('#df-d97dde9b-8e7a-483b-bb0f-908f67fb0f03');\n",
              "        const dataTable =\n",
              "          await google.colab.kernel.invokeFunction('convertToInteractive',\n",
              "                                                    [key], {});\n",
              "        if (!dataTable) return;\n",
              "\n",
              "        const docLinkHtml = 'Like what you see? Visit the ' +\n",
              "          '<a target=\"_blank\" href=https://colab.research.google.com/notebooks/data_table.ipynb>data table notebook</a>'\n",
              "          + ' to learn more about interactive tables.';\n",
              "        element.innerHTML = '';\n",
              "        dataTable['output_type'] = 'display_data';\n",
              "        await google.colab.output.renderOutput(dataTable, element);\n",
              "        const docLink = document.createElement('div');\n",
              "        docLink.innerHTML = docLinkHtml;\n",
              "        element.appendChild(docLink);\n",
              "      }\n",
              "    </script>\n",
              "  </div>\n",
              "\n",
              "\n",
              "<div id=\"df-0334e97e-7df5-4e96-931a-1ba9714760ee\">\n",
              "  <button class=\"colab-df-quickchart\" onclick=\"quickchart('df-0334e97e-7df5-4e96-931a-1ba9714760ee')\"\n",
              "            title=\"Suggest charts\"\n",
              "            style=\"display:none;\">\n",
              "\n",
              "<svg xmlns=\"http://www.w3.org/2000/svg\" height=\"24px\"viewBox=\"0 0 24 24\"\n",
              "     width=\"24px\">\n",
              "    <g>\n",
              "        <path d=\"M19 3H5c-1.1 0-2 .9-2 2v14c0 1.1.9 2 2 2h14c1.1 0 2-.9 2-2V5c0-1.1-.9-2-2-2zM9 17H7v-7h2v7zm4 0h-2V7h2v10zm4 0h-2v-4h2v4z\"/>\n",
              "    </g>\n",
              "</svg>\n",
              "  </button>\n",
              "\n",
              "<style>\n",
              "  .colab-df-quickchart {\n",
              "      --bg-color: #E8F0FE;\n",
              "      --fill-color: #1967D2;\n",
              "      --hover-bg-color: #E2EBFA;\n",
              "      --hover-fill-color: #174EA6;\n",
              "      --disabled-fill-color: #AAA;\n",
              "      --disabled-bg-color: #DDD;\n",
              "  }\n",
              "\n",
              "  [theme=dark] .colab-df-quickchart {\n",
              "      --bg-color: #3B4455;\n",
              "      --fill-color: #D2E3FC;\n",
              "      --hover-bg-color: #434B5C;\n",
              "      --hover-fill-color: #FFFFFF;\n",
              "      --disabled-bg-color: #3B4455;\n",
              "      --disabled-fill-color: #666;\n",
              "  }\n",
              "\n",
              "  .colab-df-quickchart {\n",
              "    background-color: var(--bg-color);\n",
              "    border: none;\n",
              "    border-radius: 50%;\n",
              "    cursor: pointer;\n",
              "    display: none;\n",
              "    fill: var(--fill-color);\n",
              "    height: 32px;\n",
              "    padding: 0;\n",
              "    width: 32px;\n",
              "  }\n",
              "\n",
              "  .colab-df-quickchart:hover {\n",
              "    background-color: var(--hover-bg-color);\n",
              "    box-shadow: 0 1px 2px rgba(60, 64, 67, 0.3), 0 1px 3px 1px rgba(60, 64, 67, 0.15);\n",
              "    fill: var(--button-hover-fill-color);\n",
              "  }\n",
              "\n",
              "  .colab-df-quickchart-complete:disabled,\n",
              "  .colab-df-quickchart-complete:disabled:hover {\n",
              "    background-color: var(--disabled-bg-color);\n",
              "    fill: var(--disabled-fill-color);\n",
              "    box-shadow: none;\n",
              "  }\n",
              "\n",
              "  .colab-df-spinner {\n",
              "    border: 2px solid var(--fill-color);\n",
              "    border-color: transparent;\n",
              "    border-bottom-color: var(--fill-color);\n",
              "    animation:\n",
              "      spin 1s steps(1) infinite;\n",
              "  }\n",
              "\n",
              "  @keyframes spin {\n",
              "    0% {\n",
              "      border-color: transparent;\n",
              "      border-bottom-color: var(--fill-color);\n",
              "      border-left-color: var(--fill-color);\n",
              "    }\n",
              "    20% {\n",
              "      border-color: transparent;\n",
              "      border-left-color: var(--fill-color);\n",
              "      border-top-color: var(--fill-color);\n",
              "    }\n",
              "    30% {\n",
              "      border-color: transparent;\n",
              "      border-left-color: var(--fill-color);\n",
              "      border-top-color: var(--fill-color);\n",
              "      border-right-color: var(--fill-color);\n",
              "    }\n",
              "    40% {\n",
              "      border-color: transparent;\n",
              "      border-right-color: var(--fill-color);\n",
              "      border-top-color: var(--fill-color);\n",
              "    }\n",
              "    60% {\n",
              "      border-color: transparent;\n",
              "      border-right-color: var(--fill-color);\n",
              "    }\n",
              "    80% {\n",
              "      border-color: transparent;\n",
              "      border-right-color: var(--fill-color);\n",
              "      border-bottom-color: var(--fill-color);\n",
              "    }\n",
              "    90% {\n",
              "      border-color: transparent;\n",
              "      border-bottom-color: var(--fill-color);\n",
              "    }\n",
              "  }\n",
              "</style>\n",
              "\n",
              "  <script>\n",
              "    async function quickchart(key) {\n",
              "      const quickchartButtonEl =\n",
              "        document.querySelector('#' + key + ' button');\n",
              "      quickchartButtonEl.disabled = true;  // To prevent multiple clicks.\n",
              "      quickchartButtonEl.classList.add('colab-df-spinner');\n",
              "      try {\n",
              "        const charts = await google.colab.kernel.invokeFunction(\n",
              "            'suggestCharts', [key], {});\n",
              "      } catch (error) {\n",
              "        console.error('Error during call to suggestCharts:', error);\n",
              "      }\n",
              "      quickchartButtonEl.classList.remove('colab-df-spinner');\n",
              "      quickchartButtonEl.classList.add('colab-df-quickchart-complete');\n",
              "    }\n",
              "    (() => {\n",
              "      let quickchartButtonEl =\n",
              "        document.querySelector('#df-0334e97e-7df5-4e96-931a-1ba9714760ee button');\n",
              "      quickchartButtonEl.style.display =\n",
              "        google.colab.kernel.accessAllowed ? 'block' : 'none';\n",
              "    })();\n",
              "  </script>\n",
              "</div>\n",
              "\n",
              "    </div>\n",
              "  </div>\n"
            ],
            "application/vnd.google.colaboratory.intrinsic+json": {
              "type": "dataframe",
              "variable_name": "df"
            }
          },
          "metadata": {},
          "execution_count": 33
        }
      ]
    },
    {
      "cell_type": "code",
      "source": [
        "X = df.drop(\"Cath\", axis=1)\n",
        "y = df['Cath']\n",
        "\n",
        "map_label = {\"Cad\":1, \"Normal\":0}\n",
        "y = y.map(map_label)"
      ],
      "metadata": {
        "id": "CBRFIsVhpckT"
      },
      "execution_count": 34,
      "outputs": []
    },
    {
      "cell_type": "code",
      "source": [
        "# Numerical variables:\n",
        "num_cols = ['Age','Weight', 'Length','BMI', 'BP', 'PR', 'FBS', 'CR', 'TG', 'LDL', 'HDL', 'BUN', 'ESR', 'HB', 'K', 'Na', 'WBC', 'Lymph', 'Neut', 'PLT', 'EF-TTE']\n",
        "\n",
        "# Categorical variables:\n",
        "cat_cols = ['Sex', 'DM', 'HTN', 'Current Smoker', 'EX-Smoker', 'FH', 'Obesity', 'CRF', 'CVA', 'Airway disease', 'Thyroid Disease', 'CHF', 'DLP', 'Edema', 'Weak Peripheral Pulse', 'Lung rales', 'Systolic Murmur', 'Diastolic Murmur', 'Typical Chest Pain', 'Dyspnea', 'Atypical', 'Nonanginal', 'Exertional CP', 'LowTH Ang', 'Q Wave', 'St Elevation', 'St Depression', 'Tinversion', 'LVH', 'Poor R Progression', 'Cath']\n",
        "cat_cols.remove('Cath')\n",
        "\n",
        "# Ordinal variables\n",
        "ord_cols = ['Function Class', \"Region RWMA\", \"VHD\"]"
      ],
      "metadata": {
        "id": "rA9Gg9ySpguU"
      },
      "execution_count": 35,
      "outputs": []
    },
    {
      "cell_type": "code",
      "source": [
        "preprocessor = ColumnTransformer(transformers = [('OHE', OneHotEncoder(handle_unknown='ignore', sparse_output=False, drop='first', dtype=np.int64), cat_cols),\n",
        "                                                 ('Scaler', StandardScaler(), num_cols)],\n",
        "                                 remainder = 'passthrough',verbose_feature_names_out=False).set_output(transform = 'pandas')\n",
        "X_prep = preprocessor.fit_transform(X)"
      ],
      "metadata": {
        "id": "BPmZVK6gpj-Y"
      },
      "execution_count": 36,
      "outputs": []
    },
    {
      "cell_type": "code",
      "source": [
        "# X_prep_df\n",
        "X_prep.columns\n",
        "# len(X_prep.columns)"
      ],
      "metadata": {
        "colab": {
          "base_uri": "https://localhost:8080/"
        },
        "id": "4Mi-KAq2poPy",
        "outputId": "1db40e0f-31bc-45e0-d559-2028a5e1a74d"
      },
      "execution_count": 37,
      "outputs": [
        {
          "output_type": "execute_result",
          "data": {
            "text/plain": [
              "Index(['Sex_Male', 'DM_1', 'HTN_1', 'Current Smoker_1', 'EX-Smoker_1', 'FH_1',\n",
              "       'Obesity_1', 'CRF_1', 'CVA_1', 'Airway disease_1', 'Thyroid Disease_1',\n",
              "       'CHF_1', 'DLP_1', 'Edema_1', 'Weak Peripheral Pulse_1', 'Lung rales_1',\n",
              "       'Systolic Murmur_1', 'Diastolic Murmur_1', 'Typical Chest Pain_1',\n",
              "       'Dyspnea_1', 'Atypical_1', 'Nonanginal_1', 'LowTH Ang_1', 'Q Wave_1',\n",
              "       'St Elevation_1', 'St Depression_1', 'Tinversion_1', 'LVH_1',\n",
              "       'Poor R Progression_1', 'Age', 'Weight', 'Length', 'BMI', 'BP', 'PR',\n",
              "       'FBS', 'CR', 'TG', 'LDL', 'HDL', 'BUN', 'ESR', 'HB', 'K', 'Na', 'WBC',\n",
              "       'Lymph', 'Neut', 'PLT', 'EF-TTE', 'Function Class', 'Region RWMA',\n",
              "       'VHD'],\n",
              "      dtype='object')"
            ]
          },
          "metadata": {},
          "execution_count": 37
        }
      ]
    },
    {
      "cell_type": "code",
      "source": [
        "X_train, X_test, y_train, y_test = train_test_split(X_prep, y, test_size=0.1, stratify=y,random_state = 1)\n",
        "\n",
        "print(\"Training Data Shape : \", X_train.shape, y_train.shape)\n",
        "print(\"Test Data Shape : \", X_test.shape, y_test.shape)\n",
        "\n",
        "#X_train.columns"
      ],
      "metadata": {
        "colab": {
          "base_uri": "https://localhost:8080/"
        },
        "id": "_onZzBfxpt0l",
        "outputId": "032401f5-4313-479a-b82a-3e882d57d4f1"
      },
      "execution_count": 38,
      "outputs": [
        {
          "output_type": "stream",
          "name": "stdout",
          "text": [
            "Training Data Shape :  (272, 53) (272,)\n",
            "Test Data Shape :  (31, 53) (31,)\n"
          ]
        }
      ]
    },
    {
      "cell_type": "code",
      "source": [
        "svm_classifier = SVC(kernel='linear', C = 0.1, random_state = 1)\n",
        "svm_classifier.fit(X_train, y_train)\n",
        "svm_predictions = svm_classifier.predict(X_test)\n",
        "svm_accuracy = accuracy_score(y_test, svm_predictions)\n",
        "svm_precision = precision_score(y_test, svm_predictions)\n",
        "svm_recall = recall_score(y_test, svm_predictions)\n",
        "svm_conf_matrix = confusion_matrix(y_test, svm_predictions)\n",
        "\n",
        "print(\"SVM Accuracy:\", svm_accuracy)\n",
        "print(\"SVM Precision:\", svm_precision)\n",
        "print(\"SVM Recall:\", svm_recall)\n",
        "print(\"SVM Confusion Matrix:\")\n",
        "print(svm_conf_matrix)"
      ],
      "metadata": {
        "colab": {
          "base_uri": "https://localhost:8080/"
        },
        "id": "NcLgmOCfpw2p",
        "outputId": "8545f117-a475-4aeb-80a7-aadc1b361ee0"
      },
      "execution_count": 39,
      "outputs": [
        {
          "output_type": "stream",
          "name": "stdout",
          "text": [
            "SVM Accuracy: 0.9032258064516129\n",
            "SVM Precision: 0.88\n",
            "SVM Recall: 1.0\n",
            "SVM Confusion Matrix:\n",
            "[[ 6  3]\n",
            " [ 0 22]]\n"
          ]
        }
      ]
    },
    {
      "cell_type": "code",
      "source": [
        "knn_classifier = KNeighborsClassifier(n_neighbors = 10)\n",
        "knn_classifier.fit(X_train, y_train)\n",
        "knn_predictions = knn_classifier.predict(X_test)\n",
        "knn_accuracy = accuracy_score(y_test, knn_predictions)\n",
        "knn_precision = precision_score(y_test, knn_predictions)\n",
        "knn_recall = recall_score(y_test, knn_predictions)\n",
        "knn_conf_matrix = confusion_matrix(y_test, knn_predictions)\n",
        "print(\"KNN Accuracy:\", knn_accuracy)\n",
        "print(\"KNN Precision:\", knn_precision)\n",
        "print(\"KNN Recall:\", knn_recall)\n",
        "print(\"KNN Confusion Matrix:\")\n",
        "print(knn_conf_matrix)"
      ],
      "metadata": {
        "colab": {
          "base_uri": "https://localhost:8080/"
        },
        "id": "yHi2Y_XPp0Mw",
        "outputId": "319aba34-2722-4618-de86-acec0e2b4d49"
      },
      "execution_count": 40,
      "outputs": [
        {
          "output_type": "stream",
          "name": "stdout",
          "text": [
            "KNN Accuracy: 0.9032258064516129\n",
            "KNN Precision: 0.88\n",
            "KNN Recall: 1.0\n",
            "KNN Confusion Matrix:\n",
            "[[ 6  3]\n",
            " [ 0 22]]\n"
          ]
        }
      ]
    },
    {
      "cell_type": "code",
      "source": [
        "rf_classifier = RandomForestClassifier(n_estimators = 10, random_state = 1)\n",
        "rf_classifier.fit(X_train, y_train)\n",
        "rf_predictions = rf_classifier.predict(X_test)\n",
        "rf_accuracy = accuracy_score(y_test, rf_predictions)\n",
        "rf_precision = precision_score(y_test, rf_predictions)\n",
        "rf_recall = recall_score(y_test, rf_predictions)\n",
        "rf_conf_matrix = confusion_matrix(y_test, rf_predictions)\n",
        "\n",
        "print(\"RF Accuracy:\", rf_accuracy)\n",
        "print(\"RF Precision:\", rf_precision)\n",
        "print(\"RF Recall:\", rf_recall)\n",
        "print(\"RF Confusion Matrix:\")\n",
        "print(rf_conf_matrix)"
      ],
      "metadata": {
        "colab": {
          "base_uri": "https://localhost:8080/"
        },
        "id": "-zwRqGUPp4vm",
        "outputId": "c40fb417-fdba-4b18-a21e-2b68ccc35331"
      },
      "execution_count": 41,
      "outputs": [
        {
          "output_type": "stream",
          "name": "stdout",
          "text": [
            "RF Accuracy: 0.9032258064516129\n",
            "RF Precision: 0.88\n",
            "RF Recall: 1.0\n",
            "RF Confusion Matrix:\n",
            "[[ 6  3]\n",
            " [ 0 22]]\n"
          ]
        }
      ]
    },
    {
      "cell_type": "code",
      "source": [
        "from sklearn.linear_model import Lasso\n",
        "from sklearn.feature_selection import SelectFromModel\n",
        "\n",
        "# Initialize the Lasso Regression model\n",
        "lasso = Lasso(alpha=0.1)  # You can adjust the alpha parameter for regularization strength\n",
        "\n",
        "# Fit Lasso Regression on the training data\n",
        "lasso.fit(X_train, y_train)\n",
        "\n",
        "# Select features based on the coefficients obtained from Lasso\n",
        "model = SelectFromModel(lasso, prefit=True, threshold=-np.inf, max_features=15)\n",
        "\n",
        "# Transform the training data to select the important features\n",
        "X_train_selected = model.transform(X_train)\n",
        "\n",
        "# Get the selected feature indices\n",
        "selected_feature_indices = model.get_support(indices=True)\n",
        "\n",
        "# Get the names of selected features\n",
        "selected_features = X_train.columns[selected_feature_indices].tolist()\n",
        "\n",
        "# Print the selected features\n",
        "selected_features"
      ],
      "metadata": {
        "colab": {
          "base_uri": "https://localhost:8080/"
        },
        "id": "N6gLVBeFp83h",
        "outputId": "e50ba928-45d6-47be-a940-49be7f655fb2"
      },
      "execution_count": 42,
      "outputs": [
        {
          "output_type": "execute_result",
          "data": {
            "text/plain": [
              "['Sex_Male',\n",
              " 'DM_1',\n",
              " 'HTN_1',\n",
              " 'Current Smoker_1',\n",
              " 'EX-Smoker_1',\n",
              " 'FH_1',\n",
              " 'Obesity_1',\n",
              " 'CRF_1',\n",
              " 'CVA_1',\n",
              " 'Airway disease_1',\n",
              " 'Thyroid Disease_1',\n",
              " 'CHF_1',\n",
              " 'Typical Chest Pain_1',\n",
              " 'Age',\n",
              " 'Region RWMA']"
            ]
          },
          "metadata": {},
          "execution_count": 42
        }
      ]
    },
    {
      "cell_type": "code",
      "source": [
        "X_new = X_prep[selected_features]\n",
        "X_train, X_test, y_train, y_test = train_test_split(X_new, y, test_size=0.1, stratify=y,random_state = 1)"
      ],
      "metadata": {
        "id": "crUFKonqrBrh"
      },
      "execution_count": 43,
      "outputs": []
    },
    {
      "cell_type": "code",
      "source": [
        "svm_classifier = SVC(kernel='linear', C = 0.1, random_state = 1)\n",
        "svm_classifier.fit(X_train, y_train)\n",
        "svm_predictions = svm_classifier.predict(X_test)\n",
        "svm_accuracy = accuracy_score(y_test, svm_predictions)\n",
        "svm_precision = precision_score(y_test, svm_predictions)\n",
        "svm_recall = recall_score(y_test, svm_predictions)\n",
        "svm_conf_matrix = confusion_matrix(y_test, svm_predictions)\n",
        "\n",
        "print(\"SVM Accuracy:\", svm_accuracy)\n",
        "print(\"SVM Precision:\", svm_precision)\n",
        "print(\"SVM Recall:\", svm_recall)\n",
        "print(\"SVM Confusion Matrix:\")\n",
        "print(svm_conf_matrix)"
      ],
      "metadata": {
        "colab": {
          "base_uri": "https://localhost:8080/"
        },
        "id": "JmsmygU5qfnZ",
        "outputId": "b51ecc29-06f9-4cc8-b15f-096a3dcf1576"
      },
      "execution_count": 44,
      "outputs": [
        {
          "output_type": "stream",
          "name": "stdout",
          "text": [
            "SVM Accuracy: 0.9032258064516129\n",
            "SVM Precision: 0.88\n",
            "SVM Recall: 1.0\n",
            "SVM Confusion Matrix:\n",
            "[[ 6  3]\n",
            " [ 0 22]]\n"
          ]
        }
      ]
    },
    {
      "cell_type": "code",
      "source": [
        "knn_classifier = KNeighborsClassifier(n_neighbors = 10)\n",
        "knn_classifier.fit(X_train, y_train)\n",
        "knn_predictions = knn_classifier.predict(X_test)\n",
        "knn_accuracy = accuracy_score(y_test, knn_predictions)\n",
        "knn_precision = precision_score(y_test, knn_predictions)\n",
        "knn_recall = recall_score(y_test, knn_predictions)\n",
        "knn_conf_matrix = confusion_matrix(y_test, knn_predictions)\n",
        "print(\"KNN Accuracy:\", knn_accuracy)\n",
        "print(\"KNN Precision:\", knn_precision)\n",
        "print(\"KNN Recall:\", knn_recall)\n",
        "print(\"KNN Confusion Matrix:\")\n",
        "print(knn_conf_matrix)\n"
      ],
      "metadata": {
        "colab": {
          "base_uri": "https://localhost:8080/"
        },
        "id": "B20CDZK_qq1w",
        "outputId": "37d9c42d-4ee4-44d6-ff9c-3da5f454a483"
      },
      "execution_count": 45,
      "outputs": [
        {
          "output_type": "stream",
          "name": "stdout",
          "text": [
            "KNN Accuracy: 0.9354838709677419\n",
            "KNN Precision: 0.9166666666666666\n",
            "KNN Recall: 1.0\n",
            "KNN Confusion Matrix:\n",
            "[[ 7  2]\n",
            " [ 0 22]]\n"
          ]
        }
      ]
    },
    {
      "cell_type": "code",
      "source": [
        "rf_classifier = RandomForestClassifier(n_estimators = 10, random_state = 1)\n",
        "rf_classifier.fit(X_train, y_train)\n",
        "rf_predictions = rf_classifier.predict(X_test)\n",
        "rf_accuracy = accuracy_score(y_test, rf_predictions)\n",
        "rf_precision = precision_score(y_test, rf_predictions)\n",
        "rf_recall = recall_score(y_test, rf_predictions)\n",
        "rf_conf_matrix = confusion_matrix(y_test, rf_predictions)\n",
        "\n",
        "print(\"RF Accuracy:\", rf_accuracy)\n",
        "print(\"RF Precision:\", rf_precision)\n",
        "print(\"RF Recall:\", rf_recall)\n",
        "print(\"RF Confusion Matrix:\")\n",
        "print(rf_conf_matrix)"
      ],
      "metadata": {
        "colab": {
          "base_uri": "https://localhost:8080/"
        },
        "id": "N9d9hdZ1qvX6",
        "outputId": "0ce6313b-671a-472d-8257-f06045fa3be4"
      },
      "execution_count": 47,
      "outputs": [
        {
          "output_type": "stream",
          "name": "stdout",
          "text": [
            "RF Accuracy: 0.9354838709677419\n",
            "RF Precision: 0.9166666666666666\n",
            "RF Recall: 1.0\n",
            "RF Confusion Matrix:\n",
            "[[ 7  2]\n",
            " [ 0 22]]\n"
          ]
        }
      ]
    },
    {
      "cell_type": "code",
      "source": [],
      "metadata": {
        "id": "sT2YmhPdq0v5"
      },
      "execution_count": 46,
      "outputs": []
    }
  ]
}